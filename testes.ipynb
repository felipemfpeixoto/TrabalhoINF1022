{
 "cells": [
  {
   "cell_type": "code",
   "execution_count": 13,
   "metadata": {},
   "outputs": [],
   "source": [
    "from ply.lex import lex\n",
    "from ply.yacc import yacc"
   ]
  },
  {
   "cell_type": "markdown",
   "metadata": {},
   "source": [
    "Análise Léxica"
   ]
  },
  {
   "cell_type": "code",
   "execution_count": 14,
   "metadata": {},
   "outputs": [
    {
     "name": "stderr",
     "output_type": "stream",
     "text": [
      "lex: tokens   = ('mais', 'menos', 'multiplicacao', 'divisao', 'numero')\n",
      "lex: literals = ''\n",
      "lex: states   = {'INITIAL': 'inclusive'}\n",
      "lex: Adding rule t_numero -> '\\d+' (state 'INITIAL')\n",
      "lex: Adding rule t_mais -> '\\+' (state 'INITIAL')\n",
      "lex: Adding rule t_multiplicacao -> '\\*' (state 'INITIAL')\n",
      "lex: Adding rule t_menos -> '-' (state 'INITIAL')\n",
      "lex: Adding rule t_divisao -> '/' (state 'INITIAL')\n",
      "lex: ==== MASTER REGEXS FOLLOW ====\n",
      "lex: state 'INITIAL' : regex[0] = '(?P<t_numero>\\d+)|(?P<t_mais>\\+)|(?P<t_multiplicacao>\\*)|(?P<t_menos>-)|(?P<t_divisao>/)'\n"
     ]
    }
   ],
   "source": [
    "# Aqui, criei alguns testes para entender melhor como funciona o lexer e o parser\n",
    "\n",
    "# Definindo os tokes (terminais da gramática) que serão utilizados\n",
    "\n",
    "# nome dos tokens de operadores e constantes\n",
    "reservados = ('mais','menos','multiplicacao','divisao')\n",
    "\n",
    "# expressões regulares para tokens de operadores e constantes \n",
    "t_mais = r'\\+'\n",
    "t_menos = r'-'\n",
    "t_multiplicacao = r'\\*'\n",
    "t_divisao = r'/'\n",
    "\n",
    "def t_numero(t): # aqui definimos o token numero, ele nesse caso converte o valor direto para um inteiro, mas poderia ser um float\n",
    "    r'\\d+'\n",
    "    t.value = int(t.value)\n",
    "    return t\n",
    "\n",
    "t_ignore = ' \\t\\n' # ignora espaços e tabs\n",
    "\n",
    "def t_error(t): # nos dizer qual caractere ilegal e se tem erro\n",
    "    print(\"Caracter ilegal: \", t.value[0])\n",
    "    t.lexer.skip(1)\n",
    "\n",
    "tokens = reservados + ('numero',)\n",
    "\n",
    "__file__ = 'calculadora.ipynb' # somente para funcionar no jupyter notebook\n",
    "\n",
    "lexer = lex(debug=True) # construção do lexer"
   ]
  },
  {
   "cell_type": "markdown",
   "metadata": {},
   "source": [
    "Análise Sintática"
   ]
  },
  {
   "cell_type": "code",
   "execution_count": 19,
   "metadata": {},
   "outputs": [
    {
     "data": {
      "text/plain": [
       "27"
      ]
     },
     "execution_count": 19,
     "metadata": {},
     "output_type": "execute_result"
    }
   ],
   "source": [
    "\n",
    "def p_EXPRESSAO(regras):\n",
    "    '''\n",
    "    EXPRESSAO : numero mais numero\n",
    "              | numero menos numero\n",
    "              | numero multiplicacao numero\n",
    "              | numero divisao numero\n",
    "              | numero\n",
    "    '''\n",
    "    if len(regras) == 2: # checa se é o caso de um número ou uma constante\n",
    "        regras[0] = regras[1]\n",
    "        \n",
    "    else: # checa se é o caso de uma operação\n",
    "        if regras[2] == '+':\n",
    "            regras[0] = regras[1] + regras[3]\n",
    "        elif regras[2] == '-':\n",
    "            regras[0] = regras[1] - regras[3]\n",
    "        elif regras[2] == '*':\n",
    "            regras[0] = regras[1] * regras[3]\n",
    "        elif regras[2] == '/':\n",
    "            regras[0] = regras[1] / regras[3]\n",
    "\n",
    "def p_EXPRESSAO(regras):\n",
    "    '''\n",
    "    EXPRESSAO : numero OPERACAO numero\n",
    "    '''\n",
    "    \n",
    "    regras[0] = regras[2](regras[1], regras[3])\n",
    "    \n",
    "\n",
    "def p_OPERACAO(regras):\n",
    "    '''\n",
    "    OPERACAO : mais\n",
    "             | menos\n",
    "             | multiplicacao\n",
    "             | divisao\n",
    "    '''\n",
    "    if regras[1] == '+':\n",
    "        regras[0] = lambda x,y: x+y\n",
    "    elif regras[1] == '-':\n",
    "        regras[0] = lambda x,y: x-y\n",
    "    elif regras[1] == '*':\n",
    "        regras[0] = lambda x,y: x*y\n",
    "    elif regras[1] == '/':\n",
    "        regras[0] = lambda x,y: x/y\n",
    "        \n",
    "def p_error(regras):\n",
    "    print(\"Erro de sintaxe\"+ str(regras))\n",
    "\n",
    "parser = yacc(tabmodule='meu_parsetab', debug=True) # construção do parser\n",
    "\n",
    "parser.parse('23 + 4')"
   ]
  }
 ],
 "metadata": {
  "kernelspec": {
   "display_name": "venv",
   "language": "python",
   "name": "python3"
  },
  "language_info": {
   "codemirror_mode": {
    "name": "ipython",
    "version": 3
   },
   "file_extension": ".py",
   "mimetype": "text/x-python",
   "name": "python",
   "nbconvert_exporter": "python",
   "pygments_lexer": "ipython3",
   "version": "3.13.2"
  }
 },
 "nbformat": 4,
 "nbformat_minor": 2
}
